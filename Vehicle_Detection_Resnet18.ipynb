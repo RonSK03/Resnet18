{
  "cells": [
    {
      "cell_type": "markdown",
      "metadata": {
        "id": "view-in-github",
        "colab_type": "text"
      },
      "source": [
        "<a href=\"https://colab.research.google.com/github/RonSK03/Resnet18/blob/main/Vehicle_Detection_Resnet18.ipynb\" target=\"_parent\"><img src=\"https://colab.research.google.com/assets/colab-badge.svg\" alt=\"Open In Colab\"/></a>"
      ]
    },
    {
      "cell_type": "code",
      "execution_count": null,
      "metadata": {
        "colab": {
          "base_uri": "https://localhost:8080/"
        },
        "id": "zlIeYSJnXQL4",
        "outputId": "34f06b53-0bee-42f1-93d4-94303d2df7b9"
      },
      "outputs": [
        {
          "output_type": "stream",
          "name": "stdout",
          "text": [
            "Mounted at /content/drive\n"
          ]
        }
      ],
      "source": [
        "from google.colab import drive\n",
        "drive.mount('/content/drive')\n",
        "#linking google drive to access the dataset"
      ]
    },
    {
      "cell_type": "code",
      "execution_count": null,
      "metadata": {
        "id": "1LRtoYSOXsqL"
      },
      "outputs": [],
      "source": [
        "data_dir='/content/drive/MyDrive/Vehicles/'"
      ]
    },
    {
      "cell_type": "code",
      "execution_count": null,
      "metadata": {
        "id": "OoYM8zc0X_bi"
      },
      "outputs": [],
      "source": [
        "import numpy as np\n",
        "import pandas as pd\n",
        "import torch.nn as nn\n",
        "import torch\n",
        "import torchvision\n",
        "import torchvision.models as models\n",
        "import matplotlib.pyplot as plt\n",
        "#importing important libraries"
      ]
    },
    {
      "cell_type": "code",
      "execution_count": null,
      "metadata": {
        "id": "8siLtl8IYJhG"
      },
      "outputs": [],
      "source": [
        "from torchvision import datasets, transforms\n",
        "from torchvision.datasets import ImageFolder\n",
        "from torch.utils.data import random_split, DataLoader\n",
        "#importing functions for data processing and splitting"
      ]
    },
    {
      "cell_type": "code",
      "execution_count": null,
      "metadata": {
        "id": "BzPynqR_ZHlb"
      },
      "outputs": [],
      "source": [
        "transform=transforms.Compose([transforms.RandomHorizontalFlip(), #lets model know not just one orientation\n",
        "                              transforms.RandomResizedCrop(224), #standard size for resnet is 224x224\n",
        "                              transforms.ToTensor(),#converts the images to a tensor\n",
        "                              transforms.Normalize([0.485, 0.456, 0.406],[0.229, 0.224, 0.225])\n",
        "\n",
        "                              ])\n",
        "#transforms required to convert image into form needed by ResNet 18 (normalize values used are the standard ones for ResNet18)"
      ]
    },
    {
      "cell_type": "code",
      "execution_count": null,
      "metadata": {
        "id": "N62drAv234uO"
      },
      "outputs": [],
      "source": [
        "net_data=ImageFolder(data_dir,transform=transform)"
      ]
    },
    {
      "cell_type": "code",
      "execution_count": null,
      "metadata": {
        "id": "CrbWEJMH5QSd"
      },
      "outputs": [],
      "source": [
        "train_size = int(0.8 * len(net_data))\n",
        "test_size = len(net_data) - train_size\n",
        "\n",
        "train_data, test_data = random_split(net_data, [train_size, test_size])\n",
        "#splitting dataset as 80% training and 20% testing"
      ]
    },
    {
      "cell_type": "code",
      "execution_count": null,
      "metadata": {
        "id": "xAzZ9onM51dR"
      },
      "outputs": [],
      "source": [
        "class_names=train_data.dataset.classes"
      ]
    },
    {
      "cell_type": "code",
      "execution_count": null,
      "metadata": {
        "colab": {
          "base_uri": "https://localhost:8080/"
        },
        "id": "X2uPtsID55Ha",
        "outputId": "545b257a-a6e8-4d95-a833-197533a9dda2"
      },
      "outputs": [
        {
          "output_type": "execute_result",
          "data": {
            "text/plain": [
              "['Auto Rickshaws', 'Bikes', 'Cars', 'Motorcycles', 'Planes', 'Ships', 'Trains']"
            ]
          },
          "metadata": {},
          "execution_count": 9
        }
      ],
      "source": [
        "class_names"
      ]
    },
    {
      "cell_type": "code",
      "execution_count": null,
      "metadata": {
        "id": "DHauMdi_56o2"
      },
      "outputs": [],
      "source": [
        "train_data_loaded=DataLoader(train_data, batch_size=32, shuffle=True)\n",
        "#using dataloader to split the data into batches"
      ]
    },
    {
      "cell_type": "code",
      "execution_count": null,
      "metadata": {
        "colab": {
          "base_uri": "https://localhost:8080/"
        },
        "id": "ZePh-juR589_",
        "outputId": "89e491e3-186d-4f1d-a55b-75b8626f8370"
      },
      "outputs": [
        {
          "output_type": "execute_result",
          "data": {
            "text/plain": [
              "<torch.utils.data.dataloader.DataLoader at 0x7deacda06090>"
            ]
          },
          "metadata": {},
          "execution_count": 11
        }
      ],
      "source": [
        "\n",
        "train_data_loaded"
      ]
    },
    {
      "cell_type": "code",
      "execution_count": null,
      "metadata": {
        "id": "izR3rFsH6JgX"
      },
      "outputs": [],
      "source": [
        "test_data_loaded=DataLoader(test_data, batch_size=32, shuffle=True)"
      ]
    },
    {
      "cell_type": "code",
      "execution_count": null,
      "metadata": {
        "colab": {
          "base_uri": "https://localhost:8080/"
        },
        "id": "vXgMpIdp6M20",
        "outputId": "f1ab5c27-bb54-4df8-8f3c-eae3034b9914"
      },
      "outputs": [
        {
          "output_type": "stream",
          "name": "stderr",
          "text": [
            "/usr/local/lib/python3.11/dist-packages/torchvision/models/_utils.py:223: UserWarning: Arguments other than a weight enum or `None` for 'weights' are deprecated since 0.13 and may be removed in the future. The current behavior is equivalent to passing `weights=ResNet18_Weights.IMAGENET1K_V1`. You can also use `weights=ResNet18_Weights.DEFAULT` to get the most up-to-date weights.\n",
            "  warnings.warn(msg)\n",
            "Downloading: \"https://download.pytorch.org/models/resnet18-f37072fd.pth\" to /root/.cache/torch/hub/checkpoints/resnet18-f37072fd.pth\n",
            "100%|██████████| 44.7M/44.7M [00:00<00:00, 184MB/s]\n"
          ]
        }
      ],
      "source": [
        "model=models.resnet18(weights=True)\n",
        "#calling our model resnet18"
      ]
    },
    {
      "cell_type": "code",
      "execution_count": null,
      "metadata": {
        "id": "Cl9QQVhc6VWB"
      },
      "outputs": [],
      "source": [
        "for name, param in model.named_parameters():\n",
        "    if \"fc\" in name:\n",
        "        param.requires_grad=True\n",
        "    else:\n",
        "        param.requires_grad=False\n",
        "#freezing all layers and using only the final layer"
      ]
    },
    {
      "cell_type": "code",
      "execution_count": null,
      "metadata": {
        "id": "xWx6ftpe6Zc9"
      },
      "outputs": [],
      "source": [
        "criterion=nn.CrossEntropyLoss() #loss/cost function checking how bad it is doing\n",
        "optimizer = torch.optim.AdamW(model.parameters(), lr=1e-3, weight_decay=1e-2) #gradient descent alpha=lr\n"
      ]
    },
    {
      "cell_type": "code",
      "execution_count": null,
      "metadata": {
        "id": "jW0iBGZY6dgK"
      },
      "outputs": [],
      "source": [
        "optimizer.zero_grad()"
      ]
    },
    {
      "cell_type": "code",
      "execution_count": null,
      "metadata": {
        "colab": {
          "base_uri": "https://localhost:8080/"
        },
        "id": "1Q8DEKEy9HEJ",
        "outputId": "ee1397e4-4d06-4979-a9ce-12f99f55b8e4"
      },
      "outputs": [
        {
          "output_type": "stream",
          "name": "stdout",
          "text": [
            "Device being used: cuda\n"
          ]
        }
      ],
      "source": [
        "device = torch.device(\"cuda\" if torch.cuda.is_available() else \"cpu\")\n",
        "print(\"Device being used:\", device)\n",
        "#enabling gpu if available"
      ]
    },
    {
      "cell_type": "code",
      "execution_count": null,
      "metadata": {
        "id": "SnGdyWfl9LKv"
      },
      "outputs": [],
      "source": [
        "model=model.to(device)\n",
        "#sending the model to gpu"
      ]
    },
    {
      "cell_type": "code",
      "execution_count": null,
      "metadata": {
        "colab": {
          "base_uri": "https://localhost:8080/"
        },
        "id": "P7HyhhwP6f_L",
        "outputId": "f7b94033-4b49-4a3d-961f-ed1a2bfe76ec"
      },
      "outputs": [
        {
          "output_type": "stream",
          "name": "stderr",
          "text": [
            "/usr/local/lib/python3.11/dist-packages/PIL/Image.py:1043: UserWarning: Palette images with Transparency expressed in bytes should be converted to RGBA images\n",
            "  warnings.warn(\n"
          ]
        },
        {
          "output_type": "stream",
          "name": "stdout",
          "text": [
            "Training Complete\n"
          ]
        }
      ],
      "source": [
        "for epochs in range(10): #10 iterations of training\n",
        "    model.train()\n",
        "    with torch.set_grad_enabled(True):\n",
        "        for inputs, labels in train_data_loaded: #seperating the training data into inputs and labels to compare the prediction and the label\n",
        "          inputs=inputs.to(device) #since model is in gpu we have to send the inputs and labels too\n",
        "          labels=labels.to(device)\n",
        "          optimizer.zero_grad()\n",
        "          outputs=model(inputs)\n",
        "          _, preds=torch.max(outputs,1) # the output returns a tensor with the scores of each class so here we extract the index of prediction with highest score and its value\n",
        "          loss=criterion(outputs, labels) #we find the loss\n",
        "          loss.backward() #backpropagation of loss\n",
        "          optimizer.step()\n",
        "print(\"Training Complete\")"
      ]
    },
    {
      "cell_type": "code",
      "execution_count": null,
      "metadata": {
        "id": "I-YJhLiM6hz0",
        "colab": {
          "base_uri": "https://localhost:8080/"
        },
        "outputId": "225a79c3-099b-4afc-ebd6-cea525b8ccf9"
      },
      "outputs": [
        {
          "output_type": "stream",
          "name": "stdout",
          "text": [
            "Accuracy=0.9490161001788909\n",
            "Test complete\n"
          ]
        }
      ],
      "source": [
        "model.eval()#changes model mode to evaluation\n",
        "with torch.set_grad_enabled(False):\n",
        "    running_corrects=0\n",
        "    for inputs, labels in test_data_loaded:\n",
        "        inputs=inputs.to(device)\n",
        "        labels=labels.to(device)\n",
        "        outputs=model(inputs)\n",
        "        _, preds=torch.max(outputs, 1)\n",
        "        loss=criterion(outputs, labels)\n",
        "        running_corrects += torch.sum(preds == labels.data)\n",
        "    epoch_acc = running_corrects.double() /len(test_data_loaded.dataset) #formula for calculation of accuracy\n",
        "    print(f\"Accuracy={epoch_acc}\")\n",
        "print(\"Test complete\")\n",
        "torch.save(model.state_dict(), \"/content/drive/MyDrive/vehicle_detection_model.pth\") #saving the model to my google drive"
      ]
    },
    {
      "cell_type": "code",
      "source": [
        "from PIL import Image\n",
        "import cv2\n",
        "model.load_state_dict(torch.load(\"/content/drive/MyDrive/vehicle_detection_model.pth\")) #loading saved model for using\n",
        "model.eval()\n",
        "image_path=\"/content/drive/MyDrive/Copy of Car (1).jpg\"\n",
        "image=Image.open(image_path)"
      ],
      "metadata": {
        "id": "T1SR7-eGk2Nm"
      },
      "execution_count": null,
      "outputs": []
    },
    {
      "cell_type": "code",
      "source": [
        "image_tensor=transform(image) #converting test image to tensor"
      ],
      "metadata": {
        "id": "iq149_qatmH1"
      },
      "execution_count": null,
      "outputs": []
    },
    {
      "cell_type": "code",
      "source": [
        "with torch.set_grad_enabled(False):\n",
        "    image_tensor_unsqueezed=image_tensor.unsqueeze(0)\n",
        "    image_tensor_gpu=image_tensor_unsqueezed.to(device)\n",
        "    outputs=model(image_tensor_gpu)\n",
        "    _, preds=torch.max(outputs, 1)\n",
        "print(\"Prediction is \", class_names[preds.item()])"
      ],
      "metadata": {
        "id": "9iPCaIeItzAe",
        "colab": {
          "base_uri": "https://localhost:8080/"
        },
        "outputId": "8d2740b7-bf47-43f5-f74a-5d9443f83622"
      },
      "execution_count": null,
      "outputs": [
        {
          "output_type": "stream",
          "name": "stdout",
          "text": [
            "Prediction is  Cars\n"
          ]
        }
      ]
    },
    {
      "cell_type": "code",
      "source": [
        "def predicter(image):\n",
        "  transform=transforms.Compose([transforms.RandomHorizontalFlip(),\n",
        "                              transforms.RandomResizedCrop(224),\n",
        "                              transforms.ToTensor(),\n",
        "                              transforms.Normalize([0.485, 0.456, 0.406],[0.229, 0.224, 0.225])\n",
        "                              ])\n",
        "  image_tensor=transform(image)\n",
        "  image_unsqueezed=image_tensor.unsqueeze(0)\n",
        "  image_gpu=image_unsqueezed.to(device)\n",
        "  outputs=model(image_gpu)\n",
        "  _, preds=torch.max(outputs, 1)\n",
        "  print(\"Prediction is \", class_names[preds.item()])\n",
        "  #defining a function to make it easier to skip steps and directly upload the image after using pillow library\n"
      ],
      "metadata": {
        "id": "G5gLCfoqEOMv"
      },
      "execution_count": null,
      "outputs": []
    },
    {
      "cell_type": "code",
      "source": [
        "image2=Image.open(\"/content/drive/MyDrive/Copy of Plane (33).jpg\")"
      ],
      "metadata": {
        "id": "Ep4RAXL1FVpw"
      },
      "execution_count": null,
      "outputs": []
    },
    {
      "cell_type": "code",
      "source": [
        "predicter(image2)"
      ],
      "metadata": {
        "colab": {
          "base_uri": "https://localhost:8080/"
        },
        "id": "_HfNbLfKFoli",
        "outputId": "bac2275c-d616-4fc7-d54d-a637035b8c4c"
      },
      "execution_count": null,
      "outputs": [
        {
          "output_type": "stream",
          "name": "stdout",
          "text": [
            "Prediction is  Planes\n"
          ]
        }
      ]
    },
    {
      "cell_type": "code",
      "source": [],
      "metadata": {
        "id": "SydkV6JjFrVK"
      },
      "execution_count": null,
      "outputs": []
    }
  ],
  "metadata": {
    "accelerator": "GPU",
    "colab": {
      "gpuType": "T4",
      "provenance": [],
      "include_colab_link": true
    },
    "kernelspec": {
      "display_name": "Python 3",
      "name": "python3"
    },
    "language_info": {
      "name": "python"
    }
  },
  "nbformat": 4,
  "nbformat_minor": 0
}